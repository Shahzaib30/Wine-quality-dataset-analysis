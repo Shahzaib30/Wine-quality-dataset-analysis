{
 "cells": [
  {
   "cell_type": "markdown",
   "metadata": {},
   "source": [
    "## Wine Quality Dataset - Data Preprocessing ##\n",
    "\n",
    "In this tutorial, we'll walk through the data preprocessing steps for the Wine Quality Dataset. The goal is to clean and prepare the data by handling missing values, detecting outliers, and performing any necessary transformations to get the data ready for further analysis.\n",
    "\n",
    "**Step 1: Importing Libraries**\n",
    "\n",
    "We begin by importing the necessary libraries, such as pandas for data manipulation and scipy.stats for statistical analysis (Z-score for outliers).\n",
    "\n",
    "Next, we load the Wine Quality dataset. This dataset is stored in a CSV file and uses a semicolon (;) as a delimiter, so we specify that while loading the data."
   ]
  },
  {
   "cell_type": "code",
   "execution_count": 13,
   "metadata": {},
   "outputs": [
    {
     "data": {
      "text/html": [
       "<div>\n",
       "<style scoped>\n",
       "    .dataframe tbody tr th:only-of-type {\n",
       "        vertical-align: middle;\n",
       "    }\n",
       "\n",
       "    .dataframe tbody tr th {\n",
       "        vertical-align: top;\n",
       "    }\n",
       "\n",
       "    .dataframe thead th {\n",
       "        text-align: right;\n",
       "    }\n",
       "</style>\n",
       "<table border=\"1\" class=\"dataframe\">\n",
       "  <thead>\n",
       "    <tr style=\"text-align: right;\">\n",
       "      <th></th>\n",
       "      <th>fixed acidity</th>\n",
       "      <th>volatile acidity</th>\n",
       "      <th>citric acid</th>\n",
       "      <th>residual sugar</th>\n",
       "      <th>chlorides</th>\n",
       "      <th>free sulfur dioxide</th>\n",
       "      <th>total sulfur dioxide</th>\n",
       "      <th>density</th>\n",
       "      <th>pH</th>\n",
       "      <th>sulphates</th>\n",
       "      <th>alcohol</th>\n",
       "      <th>quality</th>\n",
       "    </tr>\n",
       "  </thead>\n",
       "  <tbody>\n",
       "    <tr>\n",
       "      <th>0</th>\n",
       "      <td>7.4</td>\n",
       "      <td>0.70</td>\n",
       "      <td>0.00</td>\n",
       "      <td>1.9</td>\n",
       "      <td>0.076</td>\n",
       "      <td>11.0</td>\n",
       "      <td>34.0</td>\n",
       "      <td>0.9978</td>\n",
       "      <td>3.51</td>\n",
       "      <td>0.56</td>\n",
       "      <td>9.4</td>\n",
       "      <td>5</td>\n",
       "    </tr>\n",
       "    <tr>\n",
       "      <th>1</th>\n",
       "      <td>7.8</td>\n",
       "      <td>0.88</td>\n",
       "      <td>0.00</td>\n",
       "      <td>2.6</td>\n",
       "      <td>0.098</td>\n",
       "      <td>25.0</td>\n",
       "      <td>67.0</td>\n",
       "      <td>0.9968</td>\n",
       "      <td>3.20</td>\n",
       "      <td>0.68</td>\n",
       "      <td>9.8</td>\n",
       "      <td>5</td>\n",
       "    </tr>\n",
       "    <tr>\n",
       "      <th>2</th>\n",
       "      <td>7.8</td>\n",
       "      <td>0.76</td>\n",
       "      <td>0.04</td>\n",
       "      <td>2.3</td>\n",
       "      <td>0.092</td>\n",
       "      <td>15.0</td>\n",
       "      <td>54.0</td>\n",
       "      <td>0.9970</td>\n",
       "      <td>3.26</td>\n",
       "      <td>0.65</td>\n",
       "      <td>9.8</td>\n",
       "      <td>5</td>\n",
       "    </tr>\n",
       "    <tr>\n",
       "      <th>3</th>\n",
       "      <td>11.2</td>\n",
       "      <td>0.28</td>\n",
       "      <td>0.56</td>\n",
       "      <td>1.9</td>\n",
       "      <td>0.075</td>\n",
       "      <td>17.0</td>\n",
       "      <td>60.0</td>\n",
       "      <td>0.9980</td>\n",
       "      <td>3.16</td>\n",
       "      <td>0.58</td>\n",
       "      <td>9.8</td>\n",
       "      <td>6</td>\n",
       "    </tr>\n",
       "    <tr>\n",
       "      <th>4</th>\n",
       "      <td>7.4</td>\n",
       "      <td>0.70</td>\n",
       "      <td>0.00</td>\n",
       "      <td>1.9</td>\n",
       "      <td>0.076</td>\n",
       "      <td>11.0</td>\n",
       "      <td>34.0</td>\n",
       "      <td>0.9978</td>\n",
       "      <td>3.51</td>\n",
       "      <td>0.56</td>\n",
       "      <td>9.4</td>\n",
       "      <td>5</td>\n",
       "    </tr>\n",
       "  </tbody>\n",
       "</table>\n",
       "</div>"
      ],
      "text/plain": [
       "   fixed acidity  volatile acidity  citric acid  residual sugar  chlorides  \\\n",
       "0            7.4              0.70         0.00             1.9      0.076   \n",
       "1            7.8              0.88         0.00             2.6      0.098   \n",
       "2            7.8              0.76         0.04             2.3      0.092   \n",
       "3           11.2              0.28         0.56             1.9      0.075   \n",
       "4            7.4              0.70         0.00             1.9      0.076   \n",
       "\n",
       "   free sulfur dioxide  total sulfur dioxide  density    pH  sulphates  \\\n",
       "0                 11.0                  34.0   0.9978  3.51       0.56   \n",
       "1                 25.0                  67.0   0.9968  3.20       0.68   \n",
       "2                 15.0                  54.0   0.9970  3.26       0.65   \n",
       "3                 17.0                  60.0   0.9980  3.16       0.58   \n",
       "4                 11.0                  34.0   0.9978  3.51       0.56   \n",
       "\n",
       "   alcohol  quality  \n",
       "0      9.4        5  \n",
       "1      9.8        5  \n",
       "2      9.8        5  \n",
       "3      9.8        6  \n",
       "4      9.4        5  "
      ]
     },
     "execution_count": 13,
     "metadata": {},
     "output_type": "execute_result"
    }
   ],
   "source": [
    "import pandas as pd\n",
    "from scipy import stats\n",
    "from sklearn.preprocessing import StandardScaler\n",
    "from sklearn.model_selection import train_test_split\n",
    "# Load your dataset\n",
    "df = pd.read_csv('/home/shahzaib/Downloads/Assignment(4) (2)/Assignment/winequality.csv', delimiter=';')\n",
    "df.head()\n",
    "\n",
    "\n"
   ]
  },
  {
   "cell_type": "markdown",
   "metadata": {},
   "source": [
    "**Step 2: Checking for Missing Values**\n",
    "\n",
    "It’s essential to check for any missing values before analysis, as these can affect the outcome of your models."
   ]
  },
  {
   "cell_type": "code",
   "execution_count": 12,
   "metadata": {},
   "outputs": [
    {
     "name": "stdout",
     "output_type": "stream",
     "text": [
      "fixed acidity           0\n",
      "volatile acidity        0\n",
      "citric acid             0\n",
      "residual sugar          0\n",
      "chlorides               0\n",
      "free sulfur dioxide     0\n",
      "total sulfur dioxide    0\n",
      "density                 0\n",
      "pH                      0\n",
      "sulphates               0\n",
      "alcohol                 0\n",
      "quality                 0\n",
      "dtype: int64\n"
     ]
    }
   ],
   "source": [
    "print(df.isnull().sum())"
   ]
  },
  {
   "cell_type": "markdown",
   "metadata": {},
   "source": [
    "**Step 3: Detecting Outliers Using Z-Score**\n",
    "\n",
    "Outliers can distort statistical results, so it’s important to identify them. Here, we use the Z-score method to detect outliers.\n",
    "stats.zscore(df): Calculates the Z-score for each value in the dataset, which indicates how many standard deviations away a value is from the mean.\n",
    "outliers > 3: Z-scores greater than 3 (or less than -3) are typically considered outliers, meaning they are far from the average value."
   ]
  },
  {
   "cell_type": "code",
   "execution_count": 5,
   "metadata": {},
   "outputs": [
    {
     "name": "stdout",
     "output_type": "stream",
     "text": [
      "      fixed acidity  volatile acidity  citric acid  residual sugar  chlorides  \\\n",
      "0         -0.528360          0.961877    -1.391472       -0.453218  -0.243707   \n",
      "1         -0.298547          1.967442    -1.391472        0.043416   0.223875   \n",
      "2         -0.298547          1.297065    -1.186070       -0.169427   0.096353   \n",
      "3          1.654856         -1.384443     1.484154       -0.453218  -0.264960   \n",
      "4         -0.528360          0.961877    -1.391472       -0.453218  -0.243707   \n",
      "...             ...               ...          ...             ...        ...   \n",
      "1594      -1.217796          0.403229    -0.980669       -0.382271   0.053845   \n",
      "1595      -1.390155          0.123905    -0.877968       -0.240375  -0.541259   \n",
      "1596      -1.160343         -0.099554    -0.723916       -0.169427  -0.243707   \n",
      "1597      -1.390155          0.654620    -0.775267       -0.382271  -0.264960   \n",
      "1598      -1.332702         -1.216849     1.021999        0.752894  -0.434990   \n",
      "\n",
      "      free sulfur dioxide  total sulfur dioxide   density        pH  \\\n",
      "0               -0.466193             -0.379133  0.558274  1.288643   \n",
      "1                0.872638              0.624363  0.028261 -0.719933   \n",
      "2               -0.083669              0.229047  0.134264 -0.331177   \n",
      "3                0.107592              0.411500  0.664277 -0.979104   \n",
      "4               -0.466193             -0.379133  0.558274  1.288643   \n",
      "...                   ...                   ...       ...       ...   \n",
      "1594             1.542054             -0.075043 -0.978765  0.899886   \n",
      "1595             2.211469              0.137820 -0.862162  1.353436   \n",
      "1596             1.255161             -0.196679 -0.533554  0.705508   \n",
      "1597             1.542054             -0.075043 -0.676657  1.677400   \n",
      "1598             0.203223             -0.135861 -0.666057  0.511130   \n",
      "\n",
      "      sulphates   alcohol   quality  \n",
      "0     -0.579207 -0.960246 -0.787823  \n",
      "1      0.128950 -0.584777 -0.787823  \n",
      "2     -0.048089 -0.584777 -0.787823  \n",
      "3     -0.461180 -0.584777  0.450848  \n",
      "4     -0.579207 -0.960246 -0.787823  \n",
      "...         ...       ...       ...  \n",
      "1594  -0.461180  0.072294 -0.787823  \n",
      "1595   0.601055  0.729364  0.450848  \n",
      "1596   0.542042  0.541630  0.450848  \n",
      "1597   0.305990 -0.209308 -0.787823  \n",
      "1598   0.010924  0.541630  0.450848  \n",
      "\n",
      "[1599 rows x 12 columns]\n",
      "fixed acidity           12\n",
      "volatile acidity        10\n",
      "citric acid              1\n",
      "residual sugar          30\n",
      "chlorides               31\n",
      "free sulfur dioxide     22\n",
      "total sulfur dioxide    15\n",
      "density                 11\n",
      "pH                       7\n",
      "sulphates               27\n",
      "alcohol                  8\n",
      "quality                  0\n",
      "dtype: int64\n"
     ]
    }
   ],
   "source": [
    "# Example using Z-score to detect outliers\n",
    "z_scores = stats.zscore(df)\n",
    "outliers = (z_scores > 3).sum(axis=0)\n",
    "print(z_scores)\n",
    "print(outliers)"
   ]
  },
  {
   "cell_type": "markdown",
   "metadata": {},
   "source": [
    "**Step 4: Data Transformation**\n",
    "\n",
    "If your dataset requires feature scaling or normalization, you can apply transformations here. For example, scaling the dataset so that all the features have a similar range.\n",
    "StandardScaler: This scales the dataset to have a mean of 0 and a standard deviation of 1. This step is important for certain algorithms that assume features are on a similar scale."
   ]
  },
  {
   "cell_type": "code",
   "execution_count": 6,
   "metadata": {},
   "outputs": [
    {
     "name": "stdout",
     "output_type": "stream",
     "text": [
      "StandardScaler() [[-0.52835961  0.96187667 -1.39147228 ...  1.28864292 -0.57920652\n",
      "  -0.96024611]\n",
      " [-0.29854743  1.96744245 -1.39147228 ... -0.7199333   0.1289504\n",
      "  -0.58477711]\n",
      " [-0.29854743  1.29706527 -1.18607043 ... -0.33117661 -0.04808883\n",
      "  -0.58477711]\n",
      " ...\n",
      " [-1.1603431  -0.09955388 -0.72391627 ...  0.70550789  0.54204194\n",
      "   0.54162988]\n",
      " [-1.39015528  0.65462046 -0.77526673 ...  1.6773996   0.30598963\n",
      "  -0.20930812]\n",
      " [-1.33270223 -1.21684919  1.02199944 ...  0.51112954  0.01092425\n",
      "   0.54162988]]\n"
     ]
    }
   ],
   "source": [
    "\n",
    "# Scale the features using StandardScaler\n",
    "X=df.drop('quality', axis=1)\n",
    "Y=df['quality']\n",
    "scaler = StandardScaler()\n",
    "X_scaled = scaler.fit_transform(X)\n",
    "print(scaler, X_scaled)\n"
   ]
  },
  {
   "cell_type": "markdown",
   "metadata": {},
   "source": [
    "**Step 5: Binning the Quality Variable**\n",
    "\n",
    "Binning is a technique used to convert continuous data into categorical data by dividing the range of values into intervals. This can help in analyzing and visualizing the data more effectively.\n",
    "\n",
    "In this step, we will bin the quality column of the Wine Quality dataset into three categories: 'low', 'medium', and 'high'."
   ]
  },
  {
   "cell_type": "code",
   "execution_count": 7,
   "metadata": {},
   "outputs": [
    {
     "name": "stdout",
     "output_type": "stream",
     "text": [
      "0          low\n",
      "1          low\n",
      "2          low\n",
      "3       medium\n",
      "4          low\n",
      "         ...  \n",
      "1594       low\n",
      "1595    medium\n",
      "1596    medium\n",
      "1597       low\n",
      "1598    medium\n",
      "Name: quality_binned, Length: 1599, dtype: category\n",
      "Categories (3, object): ['low' < 'medium' < 'high']\n"
     ]
    }
   ],
   "source": [
    "bins = [2, 5, 7, 9]\n",
    "labels = ['low', 'medium', 'high']\n",
    "df['quality_binned'] = pd.cut(df['quality'], bins=bins, labels=labels, include_lowest=True)\n",
    "print(df['quality_binned'])"
   ]
  },
  {
   "cell_type": "markdown",
   "metadata": {},
   "source": [
    "**Step 6: Creating Interaction Features**\n",
    "\n",
    "Interaction features are created by combining two or more features to capture relationships that might not be apparent when analyzing each feature individually. In this step, we will create a new feature by multiplying the pH and density columns of the Wine Quality dataset. This interaction feature may help to uncover patterns or improve model performance."
   ]
  },
  {
   "cell_type": "code",
   "execution_count": 9,
   "metadata": {},
   "outputs": [
    {
     "name": "stdout",
     "output_type": "stream",
     "text": [
      "0       3.502278\n",
      "1       3.189760\n",
      "2       3.250220\n",
      "3       3.153680\n",
      "4       3.502278\n",
      "          ...   \n",
      "1594    3.432405\n",
      "1595    3.502822\n",
      "1596    3.405431\n",
      "1597    3.553828\n",
      "1598    3.374711\n",
      "Name: pH_density_interaction, Length: 1599, dtype: float64\n"
     ]
    }
   ],
   "source": [
    "df['pH_density_interaction'] = df['pH'] * df['density']\n",
    "print(df['pH_density_interaction'])"
   ]
  },
  {
   "cell_type": "markdown",
   "metadata": {},
   "source": [
    "**Step 9: Splitting the Dataset into Training and Testing Sets**\n",
    "\n",
    "In machine learning, it’s important to evaluate the performance of your model on unseen data. To achieve this, we split the dataset into two subsets: a training set, used to train the model, and a testing set, used to evaluate its performance.\n",
    "\n",
    "In this step, we will split the Wine Quality dataset into features (X) and target (y), and then create training and testing sets."
   ]
  },
  {
   "cell_type": "code",
   "execution_count": 10,
   "metadata": {},
   "outputs": [
    {
     "name": "stdout",
     "output_type": "stream",
     "text": [
      "     fixed acidity  volatile acidity  citric acid  residual sugar  chlorides  \\\n",
      "493            8.7             0.690         0.31             3.0      0.086   \n",
      "354            6.1             0.210         0.40             1.4      0.066   \n",
      "342           10.9             0.390         0.47             1.8      0.118   \n",
      "834            8.8             0.685         0.26             1.6      0.088   \n",
      "705            8.4             1.035         0.15             6.0      0.073   \n",
      "\n",
      "     free sulfur dioxide  total sulfur dioxide  density    pH  sulphates  \\\n",
      "493                 23.0                  81.0  1.00020  3.48       0.74   \n",
      "354                 40.5                 165.0  0.99120  3.25       0.59   \n",
      "342                  6.0                  14.0  0.99820  3.30       0.75   \n",
      "834                 16.0                  23.0  0.99694  3.32       0.47   \n",
      "705                 11.0                  54.0  0.99900  3.37       0.49   \n",
      "\n",
      "     alcohol quality_binned  pH_density_interaction  \n",
      "493     11.6         medium                3.480696  \n",
      "354     11.9         medium                3.221400  \n",
      "342      9.8         medium                3.294060  \n",
      "834      9.4            low                3.309841  \n",
      "705      9.9            low                3.366630  \n",
      "493    6\n",
      "354    6\n",
      "342    6\n",
      "834    5\n",
      "705    5\n",
      "Name: quality, dtype: int64\n",
      "      fixed acidity  volatile acidity  citric acid  residual sugar  chlorides  \\\n",
      "803             7.7              0.56         0.08            2.50      0.114   \n",
      "124             7.8              0.50         0.17            1.60      0.082   \n",
      "350            10.7              0.67         0.22            2.70      0.107   \n",
      "682             8.5              0.46         0.31            2.25      0.078   \n",
      "1326            6.7              0.46         0.24            1.70      0.077   \n",
      "\n",
      "      free sulfur dioxide  total sulfur dioxide  density    pH  sulphates  \\\n",
      "803                  14.0                  46.0   0.9971  3.24       0.66   \n",
      "124                  21.0                 102.0   0.9960  3.39       0.48   \n",
      "350                  17.0                  34.0   1.0004  3.28       0.98   \n",
      "682                  32.0                  58.0   0.9980  3.33       0.54   \n",
      "1326                 18.0                  34.0   0.9948  3.39       0.60   \n",
      "\n",
      "      alcohol quality_binned  pH_density_interaction  \n",
      "803       9.6         medium                3.230604  \n",
      "124       9.5            low                3.376440  \n",
      "350       9.9         medium                3.281312  \n",
      "682       9.8            low                3.323340  \n",
      "1326     10.6         medium                3.372372  \n",
      "493    6\n",
      "354    6\n",
      "342    6\n",
      "834    5\n",
      "705    5\n",
      "Name: quality, dtype: int64\n"
     ]
    }
   ],
   "source": [
    "\n",
    "X = df.drop('quality', axis=1)\n",
    "y = df['quality']\n",
    "\n",
    "\n",
    "X_train, X_test, y_train, y_test = train_test_split(X, y, test_size=0.2, random_state=42)\n",
    "print(X_train.head())\n",
    "print(y_train.head())\n",
    "print(X_test.head())\n",
    "print(y_train.head())"
   ]
  }
 ],
 "metadata": {
  "kernelspec": {
   "display_name": "my_env",
   "language": "python",
   "name": "python3"
  },
  "language_info": {
   "codemirror_mode": {
    "name": "ipython",
    "version": 3
   },
   "file_extension": ".py",
   "mimetype": "text/x-python",
   "name": "python",
   "nbconvert_exporter": "python",
   "pygments_lexer": "ipython3",
   "version": "3.12.3"
  }
 },
 "nbformat": 4,
 "nbformat_minor": 2
}
